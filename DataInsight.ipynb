{
 "cells": [
  {
   "cell_type": "code",
   "execution_count": null,
   "id": "cdf976e5",
   "metadata": {},
   "outputs": [],
   "source": [
    "#height in float \n",
    "height = float(input(\"Height(m): \"))"
   ]
  },
  {
   "cell_type": "code",
   "execution_count": null,
   "id": "e776d435",
   "metadata": {},
   "outputs": [],
   "source": [
    "#weight in float \n",
    "weight = float(input(\"Weight(kg): \"))\n"
   ]
  },
  {
   "cell_type": "code",
   "execution_count": null,
   "id": "773acefd",
   "metadata": {},
   "outputs": [],
   "source": [
    "#calculating the body mass index \n",
    "bmi = (weight) / (height * height) \n",
    "print(f\"Body Mass Index is {round(bmi,3)}\")\n"
   ]
  },
  {
   "cell_type": "code",
   "execution_count": null,
   "id": "ffacbe13",
   "metadata": {},
   "outputs": [],
   "source": []
  }
 ],
 "metadata": {
  "kernelspec": {
   "display_name": "Python 3 (ipykernel)",
   "language": "python",
   "name": "python3"
  },
  "language_info": {
   "codemirror_mode": {
    "name": "ipython",
    "version": 3
   },
   "file_extension": ".py",
   "mimetype": "text/x-python",
   "name": "python",
   "nbconvert_exporter": "python",
   "pygments_lexer": "ipython3",
   "version": "3.8.8"
  }
 },
 "nbformat": 4,
 "nbformat_minor": 5
}
